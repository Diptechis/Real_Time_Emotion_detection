{
 "cells": [
  {
   "cell_type": "code",
   "execution_count": 1,
   "id": "a1162e56",
   "metadata": {},
   "outputs": [
    {
     "name": "stdout",
     "output_type": "stream",
     "text": [
      "Imported\n"
     ]
    }
   ],
   "source": [
    "import cv2\n",
    "import numpy as np\n",
    "from keras.models import model_from_json\n",
    "print(\"Imported\")"
   ]
  },
  {
   "cell_type": "code",
   "execution_count": 2,
   "id": "97d921ff",
   "metadata": {},
   "outputs": [],
   "source": [
    "emotion_dict = {0:\"Angry\", 1:\"Disgusted\", 2:\"Fearfull\", 3:\"Happy\", 4:\"Neutral\", 5:\"Sad\", 6:\"Surprised\"}"
   ]
  },
  {
   "cell_type": "code",
   "execution_count": 3,
   "id": "6bd27c8f",
   "metadata": {},
   "outputs": [],
   "source": [
    "jason_file = open('model.json','r')\n",
    "load_mod = jason_file.read()\n",
    "jason_file.close()"
   ]
  },
  {
   "cell_type": "code",
   "execution_count": 4,
   "id": "6b3443e1",
   "metadata": {},
   "outputs": [],
   "source": [
    "emotion_mod = model_from_json(load_mod)\n"
   ]
  },
  {
   "cell_type": "code",
   "execution_count": 5,
   "id": "8529d145",
   "metadata": {},
   "outputs": [],
   "source": [
    "emotion_mod.load_weights('model.h5')\n"
   ]
  },
  {
   "cell_type": "code",
   "execution_count": 6,
   "id": "046a5e3d",
   "metadata": {},
   "outputs": [],
   "source": [
    "cap = cv2.VideoCapture(0)"
   ]
  },
  {
   "cell_type": "code",
   "execution_count": 7,
   "id": "c8550b00",
   "metadata": {},
   "outputs": [],
   "source": [
    "# cap = cv2.VideoCapture(\"\")"
   ]
  },
  {
   "cell_type": "code",
   "execution_count": null,
   "id": "52de1ebf",
   "metadata": {},
   "outputs": [],
   "source": [
    "while True:\n",
    "    ret, frame = cap.read()\n",
    "    frame = cv2.resize(frame,(1280,720))\n",
    "    \n",
    "    if not ret:\n",
    "        break\n",
    "        \n",
    "    face_detector = cv2.CascadeClassifier('haarcascade_frontalface_default.xml')\n",
    "    gr_frame = cv2.cvtColor(frame, cv2.COLOR_BGR2GRAY)\n",
    "    \n",
    "    num_faces = face_detector.detectMultiScale(gr_frame,1.3,5)\n",
    "    \n",
    "    for (x, y, w, h) in num_faces:\n",
    "        cv2.rectangle(frame, (x, y-50), (x + w, y + h + 10), (0, 255, 0), 4)\n",
    "        r_gr_fr = gr_frame[y:y + h,x:x + w]\n",
    "        \n",
    "        crop_img = np.expand_dims(np.expand_dims(cv2.resize(r_gr_fr, (48,48)),-1),0)\n",
    "        \n",
    "        emo_pred = emotion_mod.predict(crop_img)\n",
    "        maxindex = int(np.argmax(emo_pred))\n",
    "        cv2.putText(frame, emotion_dict[maxindex],(x+5, y-20), cv2.FONT_HERSHEY_SIMPLEX,1,(255,0,0), 2, cv2.LINE_8)\n",
    "        \n",
    "    cv2.imshow(\"Emotion Detection\",frame)\n",
    "    if cv2.waitKey(1) & 0xFF == ord('q'):\n",
    "        break\n",
    "        \n",
    "cap.release()\n",
    "cv2.destroyAllWindows()\n",
    "\n",
    "    \n",
    "    "
   ]
  },
  {
   "cell_type": "code",
   "execution_count": null,
   "id": "a0d052e2",
   "metadata": {},
   "outputs": [],
   "source": []
  }
 ],
 "metadata": {
  "kernelspec": {
   "display_name": "Python 3",
   "language": "python",
   "name": "python3"
  },
  "language_info": {
   "codemirror_mode": {
    "name": "ipython",
    "version": 3
   },
   "file_extension": ".py",
   "mimetype": "text/x-python",
   "name": "python",
   "nbconvert_exporter": "python",
   "pygments_lexer": "ipython3",
   "version": "3.9.1"
  }
 },
 "nbformat": 4,
 "nbformat_minor": 5
}
