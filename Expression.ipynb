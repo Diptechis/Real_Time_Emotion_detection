{
 "cells": [
  {
   "cell_type": "code",
   "execution_count": 2,
   "id": "d3ac5e73",
   "metadata": {},
   "outputs": [],
   "source": [
    "from keras.models import Sequential\n",
    "from keras.layers import Conv2D, MaxPool2D, Dense, Dropout, Flatten\n",
    "from keras.preprocessing.image import ImageDataGenerator"
   ]
  },
  {
   "cell_type": "code",
   "execution_count": 3,
   "id": "83b80932",
   "metadata": {},
   "outputs": [],
   "source": [
    "train = ImageDataGenerator(rescale=1./255)\n",
    "validation = ImageDataGenerator(rescale=1./255)"
   ]
  },
  {
   "cell_type": "code",
   "execution_count": 6,
   "id": "a5dd29e3",
   "metadata": {},
   "outputs": [
    {
     "name": "stdout",
     "output_type": "stream",
     "text": [
      "Found 28709 images belonging to 7 classes.\n"
     ]
    }
   ],
   "source": [
    "train_gen = train.flow_from_directory(\"/Users/musubimanagement/Desktop/archive/train\",\n",
    "                                      target_size=(48, 48),\n",
    "                                      batch_size=64,\n",
    "                                      color_mode='grayscale',\n",
    "                                      class_mode='categorical')"
   ]
  },
  {
   "cell_type": "code",
   "execution_count": 7,
   "id": "891dd3ca",
   "metadata": {},
   "outputs": [
    {
     "name": "stdout",
     "output_type": "stream",
     "text": [
      "Found 7178 images belonging to 7 classes.\n"
     ]
    }
   ],
   "source": [
    "validation_gen = validation.flow_from_directory(\"/Users/musubimanagement/Desktop/archive/test\",\n",
    "                                                target_size=(48, 48),\n",
    "                                                batch_size=64,\n",
    "                                                color_mode='grayscale',\n",
    "                                                class_mode='categorical')"
   ]
  },
  {
   "cell_type": "code",
   "execution_count": 8,
   "id": "cb854e73",
   "metadata": {},
   "outputs": [],
   "source": [
    "model = Sequential()\n",
    "\n",
    "model.add(Conv2D(32, kernel_size=(3, 3), activation='relu', input_shape=(48, 48, 1)))\n",
    "model.add(MaxPool2D(pool_size=(2, 2)))\n",
    "model.add(Conv2D(64, kernel_size=(3, 3), activation='relu'))\n",
    "model.add(MaxPool2D(pool_size=(2, 2)))\n",
    "model.add(Dropout(0.25))"
   ]
  },
  {
   "cell_type": "code",
   "execution_count": 9,
   "id": "c483c56f",
   "metadata": {},
   "outputs": [],
   "source": [
    "model.add(Conv2D(128, kernel_size=(3, 3), activation='relu'))\n",
    "model.add(MaxPool2D(pool_size=(2, 2)))\n",
    "model.add(Conv2D(128, kernel_size=(3, 3), activation='relu'))\n",
    "model.add(MaxPool2D(pool_size=(2, 2)))\n",
    "model.add(Dropout(0.25))"
   ]
  },
  {
   "cell_type": "code",
   "execution_count": 10,
   "id": "14c7b990",
   "metadata": {},
   "outputs": [],
   "source": [
    "model.add(Flatten())\n",
    "model.add(Dense(1024, activation='relu'))\n",
    "model.add(Dropout(0.5))\n",
    "model.add(Dense(7, activation='softmax'))"
   ]
  },
  {
   "cell_type": "code",
   "execution_count": 14,
   "id": "9f5fa06d",
   "metadata": {},
   "outputs": [],
   "source": [
    "model.compile(loss='categorical_crossentropy', optimizer='adam', metrics=['accuracy'])"
   ]
  },
  {
   "cell_type": "code",
   "execution_count": 15,
   "id": "562f1d1c",
   "metadata": {},
   "outputs": [
    {
     "name": "stderr",
     "output_type": "stream",
     "text": [
      "<ipython-input-15-0232a4d82be3>:1: UserWarning: `Model.fit_generator` is deprecated and will be removed in a future version. Please use `Model.fit`, which supports generators.\n",
      "  model_info = model.fit_generator(train_gen,\n"
     ]
    },
    {
     "name": "stdout",
     "output_type": "stream",
     "text": [
      "Epoch 1/50\n",
      "448/448 [==============================] - 93s 203ms/step - loss: 1.7832 - accuracy: 0.2599 - val_loss: 1.6553 - val_accuracy: 0.3422\n",
      "Epoch 2/50\n",
      "448/448 [==============================] - 90s 200ms/step - loss: 1.5500 - accuracy: 0.3920 - val_loss: 1.3989 - val_accuracy: 0.4554\n",
      "Epoch 3/50\n",
      "448/448 [==============================] - 86s 192ms/step - loss: 1.3955 - accuracy: 0.4594 - val_loss: 1.3293 - val_accuracy: 0.4886\n",
      "Epoch 4/50\n",
      "448/448 [==============================] - 87s 193ms/step - loss: 1.3220 - accuracy: 0.4918 - val_loss: 1.2559 - val_accuracy: 0.5165\n",
      "Epoch 5/50\n",
      "448/448 [==============================] - 87s 195ms/step - loss: 1.2665 - accuracy: 0.5151 - val_loss: 1.2084 - val_accuracy: 0.5319\n",
      "Epoch 6/50\n",
      "448/448 [==============================] - 88s 196ms/step - loss: 1.2242 - accuracy: 0.5335 - val_loss: 1.1975 - val_accuracy: 0.5346\n",
      "Epoch 7/50\n",
      "448/448 [==============================] - 86s 193ms/step - loss: 1.1909 - accuracy: 0.5485 - val_loss: 1.1840 - val_accuracy: 0.5377\n",
      "Epoch 8/50\n",
      "448/448 [==============================] - 88s 196ms/step - loss: 1.1640 - accuracy: 0.5580 - val_loss: 1.1702 - val_accuracy: 0.5506\n",
      "Epoch 9/50\n",
      "448/448 [==============================] - 90s 201ms/step - loss: 1.1341 - accuracy: 0.5656 - val_loss: 1.1481 - val_accuracy: 0.5568\n",
      "Epoch 10/50\n",
      "448/448 [==============================] - 104s 233ms/step - loss: 1.1117 - accuracy: 0.5795 - val_loss: 1.1440 - val_accuracy: 0.5619\n",
      "Epoch 11/50\n",
      "448/448 [==============================] - 109s 242ms/step - loss: 1.0874 - accuracy: 0.5864 - val_loss: 1.1376 - val_accuracy: 0.5612\n",
      "Epoch 12/50\n",
      "448/448 [==============================] - 103s 230ms/step - loss: 1.0706 - accuracy: 0.5927 - val_loss: 1.1311 - val_accuracy: 0.5647\n",
      "Epoch 13/50\n",
      "448/448 [==============================] - 112s 251ms/step - loss: 1.0480 - accuracy: 0.6014 - val_loss: 1.1269 - val_accuracy: 0.5693\n",
      "Epoch 14/50\n",
      "448/448 [==============================] - 114s 254ms/step - loss: 1.0278 - accuracy: 0.6102 - val_loss: 1.1234 - val_accuracy: 0.5703\n",
      "Epoch 15/50\n",
      "448/448 [==============================] - 112s 249ms/step - loss: 1.0068 - accuracy: 0.6204 - val_loss: 1.1216 - val_accuracy: 0.5734\n",
      "Epoch 16/50\n",
      "448/448 [==============================] - 109s 243ms/step - loss: 0.9958 - accuracy: 0.6245 - val_loss: 1.1263 - val_accuracy: 0.5711\n",
      "Epoch 17/50\n",
      "448/448 [==============================] - 113s 252ms/step - loss: 0.9817 - accuracy: 0.6290 - val_loss: 1.1351 - val_accuracy: 0.5756\n",
      "Epoch 18/50\n",
      "448/448 [==============================] - 131s 292ms/step - loss: 0.9650 - accuracy: 0.6351 - val_loss: 1.1118 - val_accuracy: 0.5822\n",
      "Epoch 19/50\n",
      "448/448 [==============================] - 124s 277ms/step - loss: 0.9552 - accuracy: 0.6406 - val_loss: 1.1295 - val_accuracy: 0.5751\n",
      "Epoch 20/50\n",
      "448/448 [==============================] - 123s 274ms/step - loss: 0.9394 - accuracy: 0.6448 - val_loss: 1.1300 - val_accuracy: 0.5752\n",
      "Epoch 21/50\n",
      "448/448 [==============================] - 114s 255ms/step - loss: 0.9328 - accuracy: 0.6497 - val_loss: 1.1290 - val_accuracy: 0.5788\n",
      "Epoch 22/50\n",
      "448/448 [==============================] - 110s 245ms/step - loss: 0.9163 - accuracy: 0.6561 - val_loss: 1.1295 - val_accuracy: 0.5868\n",
      "Epoch 23/50\n",
      "448/448 [==============================] - 134s 299ms/step - loss: 0.9087 - accuracy: 0.6563 - val_loss: 1.1212 - val_accuracy: 0.5880\n",
      "Epoch 24/50\n",
      "448/448 [==============================] - 115s 257ms/step - loss: 0.8945 - accuracy: 0.6623 - val_loss: 1.1471 - val_accuracy: 0.5784\n",
      "Epoch 25/50\n",
      "448/448 [==============================] - 131s 292ms/step - loss: 0.8809 - accuracy: 0.6690 - val_loss: 1.1536 - val_accuracy: 0.5781\n",
      "Epoch 26/50\n",
      "448/448 [==============================] - 91s 204ms/step - loss: 0.8768 - accuracy: 0.6671 - val_loss: 1.1479 - val_accuracy: 0.5823\n",
      "Epoch 27/50\n",
      "448/448 [==============================] - 129s 287ms/step - loss: 0.8621 - accuracy: 0.6751 - val_loss: 1.1550 - val_accuracy: 0.5787\n",
      "Epoch 28/50\n",
      "448/448 [==============================] - 141s 313ms/step - loss: 0.8509 - accuracy: 0.6796 - val_loss: 1.1630 - val_accuracy: 0.5806\n",
      "Epoch 29/50\n",
      "448/448 [==============================] - 147s 329ms/step - loss: 0.8448 - accuracy: 0.6823 - val_loss: 1.1633 - val_accuracy: 0.5749\n",
      "Epoch 30/50\n",
      "448/448 [==============================] - 113s 252ms/step - loss: 0.8324 - accuracy: 0.6880 - val_loss: 1.1410 - val_accuracy: 0.5848\n",
      "Epoch 31/50\n",
      "448/448 [==============================] - 107s 238ms/step - loss: 0.8240 - accuracy: 0.6885 - val_loss: 1.1540 - val_accuracy: 0.5815\n",
      "Epoch 32/50\n",
      "448/448 [==============================] - 127s 283ms/step - loss: 0.8187 - accuracy: 0.6937 - val_loss: 1.1490 - val_accuracy: 0.5854\n",
      "Epoch 33/50\n",
      "448/448 [==============================] - 134s 299ms/step - loss: 0.8129 - accuracy: 0.6950 - val_loss: 1.1698 - val_accuracy: 0.5791\n",
      "Epoch 34/50\n",
      "448/448 [==============================] - 127s 283ms/step - loss: 0.8036 - accuracy: 0.6975 - val_loss: 1.1802 - val_accuracy: 0.5816\n",
      "Epoch 35/50\n",
      "448/448 [==============================] - 119s 265ms/step - loss: 0.7922 - accuracy: 0.7012 - val_loss: 1.1782 - val_accuracy: 0.5872\n",
      "Epoch 36/50\n",
      "448/448 [==============================] - 114s 254ms/step - loss: 0.7867 - accuracy: 0.7040 - val_loss: 1.1548 - val_accuracy: 0.5843\n",
      "Epoch 37/50\n",
      "448/448 [==============================] - 127s 284ms/step - loss: 0.7810 - accuracy: 0.7063 - val_loss: 1.1663 - val_accuracy: 0.5838\n",
      "Epoch 38/50\n",
      "448/448 [==============================] - 150s 334ms/step - loss: 0.7737 - accuracy: 0.7073 - val_loss: 1.1772 - val_accuracy: 0.5770\n",
      "Epoch 39/50\n",
      "448/448 [==============================] - 123s 274ms/step - loss: 0.7605 - accuracy: 0.7108 - val_loss: 1.1862 - val_accuracy: 0.5785\n",
      "Epoch 40/50\n",
      "448/448 [==============================] - 116s 258ms/step - loss: 0.7590 - accuracy: 0.7150 - val_loss: 1.2082 - val_accuracy: 0.5766\n",
      "Epoch 41/50\n",
      "448/448 [==============================] - 126s 282ms/step - loss: 0.7473 - accuracy: 0.7184 - val_loss: 1.2057 - val_accuracy: 0.5783\n",
      "Epoch 42/50\n",
      "448/448 [==============================] - 118s 264ms/step - loss: 0.7453 - accuracy: 0.7199 - val_loss: 1.2070 - val_accuracy: 0.5850\n",
      "Epoch 43/50\n",
      "448/448 [==============================] - 111s 247ms/step - loss: 0.7430 - accuracy: 0.7239 - val_loss: 1.2193 - val_accuracy: 0.5734\n",
      "Epoch 44/50\n",
      "448/448 [==============================] - 117s 262ms/step - loss: 0.7410 - accuracy: 0.7196 - val_loss: 1.1981 - val_accuracy: 0.5787\n",
      "Epoch 45/50\n",
      "448/448 [==============================] - 107s 240ms/step - loss: 0.7279 - accuracy: 0.7292 - val_loss: 1.2197 - val_accuracy: 0.5823\n",
      "Epoch 46/50\n",
      "448/448 [==============================] - 116s 258ms/step - loss: 0.7286 - accuracy: 0.7273 - val_loss: 1.2156 - val_accuracy: 0.5742\n",
      "Epoch 47/50\n",
      "448/448 [==============================] - 103s 229ms/step - loss: 0.7197 - accuracy: 0.7325 - val_loss: 1.1944 - val_accuracy: 0.5798\n",
      "Epoch 48/50\n",
      "448/448 [==============================] - 99s 221ms/step - loss: 0.7179 - accuracy: 0.7290 - val_loss: 1.2236 - val_accuracy: 0.5878\n",
      "Epoch 49/50\n",
      "448/448 [==============================] - 127s 284ms/step - loss: 0.7112 - accuracy: 0.7368 - val_loss: 1.2052 - val_accuracy: 0.5840\n",
      "Epoch 50/50\n",
      "448/448 [==============================] - 122s 273ms/step - loss: 0.7039 - accuracy: 0.7376 - val_loss: 1.2129 - val_accuracy: 0.5833\n"
     ]
    }
   ],
   "source": [
    "model_info = model.fit_generator(train_gen,\n",
    "                                 steps_per_epoch=28709 // 64,\n",
    "                                 epochs=50,\n",
    "                                 validation_data=validation_gen,\n",
    "                                 validation_steps=7178 // 64)"
   ]
  },
  {
   "cell_type": "code",
   "execution_count": 16,
   "id": "79f5ea38",
   "metadata": {},
   "outputs": [],
   "source": [
    "model_jason = model.to_json()\n",
    "\n",
    "with open(\"model.json\",\"w\") as json_file:\n",
    "    json_file.write(model_jason)\n",
    "\n",
    "model.save_weights('model.h5')"
   ]
  },
  {
   "cell_type": "code",
   "execution_count": null,
   "id": "918bcdb2",
   "metadata": {},
   "outputs": [],
   "source": []
  }
 ],
 "metadata": {
  "kernelspec": {
   "display_name": "Python 3",
   "language": "python",
   "name": "python3"
  },
  "language_info": {
   "codemirror_mode": {
    "name": "ipython",
    "version": 3
   },
   "file_extension": ".py",
   "mimetype": "text/x-python",
   "name": "python",
   "nbconvert_exporter": "python",
   "pygments_lexer": "ipython3",
   "version": "3.9.1"
  }
 },
 "nbformat": 4,
 "nbformat_minor": 5
}
